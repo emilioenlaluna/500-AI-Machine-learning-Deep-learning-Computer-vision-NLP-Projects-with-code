{
  "cells": [
    {
      "cell_type": "markdown",
      "metadata": {
        "id": "view-in-github",
        "colab_type": "text"
      },
      "source": [
        "<a href=\"https://colab.research.google.com/github/emilioenlaluna/500-AI-Machine-learning-Deep-learning-Computer-vision-NLP-Projects-with-code/blob/main/Untitled6.ipynb\" target=\"_parent\"><img src=\"https://colab.research.google.com/assets/colab-badge.svg\" alt=\"Open In Colab\"/></a>"
      ]
    },
    {
      "cell_type": "code",
      "execution_count": null,
      "metadata": {
        "colab": {
          "base_uri": "https://localhost:8080/",
          "height": 363
        },
        "id": "e60KuzCCdQdR",
        "outputId": "1517af13-346d-4b1c-a0f9-65f578fd338e"
      },
      "outputs": [
        {
          "data": {
            "text/html": [
              "\n",
              "  <div id=\"df-e98584d6-8298-4b46-ae51-9e2e744d2abc\">\n",
              "    <div class=\"colab-df-container\">\n",
              "      <div>\n",
              "<style scoped>\n",
              "    .dataframe tbody tr th:only-of-type {\n",
              "        vertical-align: middle;\n",
              "    }\n",
              "\n",
              "    .dataframe tbody tr th {\n",
              "        vertical-align: top;\n",
              "    }\n",
              "\n",
              "    .dataframe thead th {\n",
              "        text-align: right;\n",
              "    }\n",
              "</style>\n",
              "<table border=\"1\" class=\"dataframe\">\n",
              "  <thead>\n",
              "    <tr style=\"text-align: right;\">\n",
              "      <th></th>\n",
              "      <th>review</th>\n",
              "      <th>sentiment</th>\n",
              "    </tr>\n",
              "  </thead>\n",
              "  <tbody>\n",
              "    <tr>\n",
              "      <th>0</th>\n",
              "      <td>In 1974, the teenager Martha Moxley (Maggie Gr...</td>\n",
              "      <td>1</td>\n",
              "    </tr>\n",
              "    <tr>\n",
              "      <th>1</th>\n",
              "      <td>OK... so... I really like Kris Kristofferson a...</td>\n",
              "      <td>0</td>\n",
              "    </tr>\n",
              "    <tr>\n",
              "      <th>2</th>\n",
              "      <td>***SPOILER*** Do not read this, if you think a...</td>\n",
              "      <td>0</td>\n",
              "    </tr>\n",
              "    <tr>\n",
              "      <th>3</th>\n",
              "      <td>hi for all the people who have seen this wonde...</td>\n",
              "      <td>1</td>\n",
              "    </tr>\n",
              "    <tr>\n",
              "      <th>4</th>\n",
              "      <td>I recently bought the DVD, forgetting just how...</td>\n",
              "      <td>0</td>\n",
              "    </tr>\n",
              "    <tr>\n",
              "      <th>5</th>\n",
              "      <td>Leave it to Braik to put on a good show. Final...</td>\n",
              "      <td>1</td>\n",
              "    </tr>\n",
              "    <tr>\n",
              "      <th>6</th>\n",
              "      <td>Nathan Detroit (Frank Sinatra) is the manager ...</td>\n",
              "      <td>1</td>\n",
              "    </tr>\n",
              "    <tr>\n",
              "      <th>7</th>\n",
              "      <td>To understand \"Crash Course\" in the right cont...</td>\n",
              "      <td>1</td>\n",
              "    </tr>\n",
              "    <tr>\n",
              "      <th>8</th>\n",
              "      <td>I've been impressed with Chavez's stance again...</td>\n",
              "      <td>1</td>\n",
              "    </tr>\n",
              "    <tr>\n",
              "      <th>9</th>\n",
              "      <td>This movie is directed by Renny Harlin the fin...</td>\n",
              "      <td>1</td>\n",
              "    </tr>\n",
              "  </tbody>\n",
              "</table>\n",
              "</div>\n",
              "      <button class=\"colab-df-convert\" onclick=\"convertToInteractive('df-e98584d6-8298-4b46-ae51-9e2e744d2abc')\"\n",
              "              title=\"Convert this dataframe to an interactive table.\"\n",
              "              style=\"display:none;\">\n",
              "        \n",
              "  <svg xmlns=\"http://www.w3.org/2000/svg\" height=\"24px\"viewBox=\"0 0 24 24\"\n",
              "       width=\"24px\">\n",
              "    <path d=\"M0 0h24v24H0V0z\" fill=\"none\"/>\n",
              "    <path d=\"M18.56 5.44l.94 2.06.94-2.06 2.06-.94-2.06-.94-.94-2.06-.94 2.06-2.06.94zm-11 1L8.5 8.5l.94-2.06 2.06-.94-2.06-.94L8.5 2.5l-.94 2.06-2.06.94zm10 10l.94 2.06.94-2.06 2.06-.94-2.06-.94-.94-2.06-.94 2.06-2.06.94z\"/><path d=\"M17.41 7.96l-1.37-1.37c-.4-.4-.92-.59-1.43-.59-.52 0-1.04.2-1.43.59L10.3 9.45l-7.72 7.72c-.78.78-.78 2.05 0 2.83L4 21.41c.39.39.9.59 1.41.59.51 0 1.02-.2 1.41-.59l7.78-7.78 2.81-2.81c.8-.78.8-2.07 0-2.86zM5.41 20L4 18.59l7.72-7.72 1.47 1.35L5.41 20z\"/>\n",
              "  </svg>\n",
              "      </button>\n",
              "      \n",
              "  <style>\n",
              "    .colab-df-container {\n",
              "      display:flex;\n",
              "      flex-wrap:wrap;\n",
              "      gap: 12px;\n",
              "    }\n",
              "\n",
              "    .colab-df-convert {\n",
              "      background-color: #E8F0FE;\n",
              "      border: none;\n",
              "      border-radius: 50%;\n",
              "      cursor: pointer;\n",
              "      display: none;\n",
              "      fill: #1967D2;\n",
              "      height: 32px;\n",
              "      padding: 0 0 0 0;\n",
              "      width: 32px;\n",
              "    }\n",
              "\n",
              "    .colab-df-convert:hover {\n",
              "      background-color: #E2EBFA;\n",
              "      box-shadow: 0px 1px 2px rgba(60, 64, 67, 0.3), 0px 1px 3px 1px rgba(60, 64, 67, 0.15);\n",
              "      fill: #174EA6;\n",
              "    }\n",
              "\n",
              "    [theme=dark] .colab-df-convert {\n",
              "      background-color: #3B4455;\n",
              "      fill: #D2E3FC;\n",
              "    }\n",
              "\n",
              "    [theme=dark] .colab-df-convert:hover {\n",
              "      background-color: #434B5C;\n",
              "      box-shadow: 0px 1px 3px 1px rgba(0, 0, 0, 0.15);\n",
              "      filter: drop-shadow(0px 1px 2px rgba(0, 0, 0, 0.3));\n",
              "      fill: #FFFFFF;\n",
              "    }\n",
              "  </style>\n",
              "\n",
              "      <script>\n",
              "        const buttonEl =\n",
              "          document.querySelector('#df-e98584d6-8298-4b46-ae51-9e2e744d2abc button.colab-df-convert');\n",
              "        buttonEl.style.display =\n",
              "          google.colab.kernel.accessAllowed ? 'block' : 'none';\n",
              "\n",
              "        async function convertToInteractive(key) {\n",
              "          const element = document.querySelector('#df-e98584d6-8298-4b46-ae51-9e2e744d2abc');\n",
              "          const dataTable =\n",
              "            await google.colab.kernel.invokeFunction('convertToInteractive',\n",
              "                                                     [key], {});\n",
              "          if (!dataTable) return;\n",
              "\n",
              "          const docLinkHtml = 'Like what you see? Visit the ' +\n",
              "            '<a target=\"_blank\" href=https://colab.research.google.com/notebooks/data_table.ipynb>data table notebook</a>'\n",
              "            + ' to learn more about interactive tables.';\n",
              "          element.innerHTML = '';\n",
              "          dataTable['output_type'] = 'display_data';\n",
              "          await google.colab.output.renderOutput(dataTable, element);\n",
              "          const docLink = document.createElement('div');\n",
              "          docLink.innerHTML = docLinkHtml;\n",
              "          element.appendChild(docLink);\n",
              "        }\n",
              "      </script>\n",
              "    </div>\n",
              "  </div>\n",
              "  "
            ],
            "text/plain": [
              "                                              review  sentiment\n",
              "0  In 1974, the teenager Martha Moxley (Maggie Gr...          1\n",
              "1  OK... so... I really like Kris Kristofferson a...          0\n",
              "2  ***SPOILER*** Do not read this, if you think a...          0\n",
              "3  hi for all the people who have seen this wonde...          1\n",
              "4  I recently bought the DVD, forgetting just how...          0\n",
              "5  Leave it to Braik to put on a good show. Final...          1\n",
              "6  Nathan Detroit (Frank Sinatra) is the manager ...          1\n",
              "7  To understand \"Crash Course\" in the right cont...          1\n",
              "8  I've been impressed with Chavez's stance again...          1\n",
              "9  This movie is directed by Renny Harlin the fin...          1"
            ]
          },
          "execution_count": 1,
          "metadata": {},
          "output_type": "execute_result"
        }
      ],
      "source": [
        "#Loading the dataset\n",
        "import pandas as pd\n",
        "\n",
        "df = pd.read_csv('movie_data.csv')\n",
        "df.head(10)"
      ]
    },
    {
      "cell_type": "code",
      "execution_count": null,
      "metadata": {
        "id": "1JmGv-QXmjkR"
      },
      "outputs": [],
      "source": [
        "#Limpieza de datos\n",
        "import re\n",
        "def preprocessor(text):\n",
        "    text = re.sub('<[^>]*>', '', text)\n",
        "    #replace html tags with a empty string\n",
        "    emoticons = re.findall('(?::|;|=)(?:-)?(?:\\)|\\(|D|P)', text)\n",
        "    #get text emojes like smiley face, disappointed, sad\n",
        "    text = re.sub('[\\W]+', ' ', text.lower()) +\\\n",
        "        ' '.join(emoticons).replace('-', '')\n",
        "    #we will move the emojis to end of text review\n",
        "    return text"
      ]
    },
    {
      "cell_type": "code",
      "execution_count": null,
      "metadata": {
        "id": "YSkH6aramp7W"
      },
      "outputs": [],
      "source": [
        "#aplicamos la limpieza\n",
        "df['review'] = df['review'].apply(preprocessor)"
      ]
    },
    {
      "cell_type": "code",
      "execution_count": null,
      "metadata": {
        "id": "HNnB8KJpnDY7"
      },
      "outputs": [],
      "source": [
        "#stemming para eliminar derivaciones de palabras comunes a una palabra base como organizar, organizado, organizador, organización\n",
        "# Derivación corta palabras y elimina derivaciones\n",
        "from nltk.stem.porter import PorterStemmer\n",
        "\n",
        "porter = PorterStemmer()"
      ]
    },
    {
      "cell_type": "code",
      "execution_count": null,
      "metadata": {
        "id": "_SuVGNaAn3aC"
      },
      "outputs": [],
      "source": [
        "#tokenize el texto y divida la oración en palabras según la ocurrencia\n",
        "#técnica steamming\n",
        "def tokenizer(text):\n",
        "    return text.split()\n",
        "def tokenizer_porter(text):\n",
        "    return[porter.stem(word) for word in text.split()]"
      ]
    },
    {
      "cell_type": "code",
      "execution_count": null,
      "metadata": {
        "colab": {
          "base_uri": "https://localhost:8080/"
        },
        "id": "FQqBGNWNoUzo",
        "outputId": "53096a3f-9ff5-4f7d-f634-9e9001ff34a3"
      },
      "outputs": [
        {
          "name": "stderr",
          "output_type": "stream",
          "text": [
            "[nltk_data] Downloading package stopwords to /root/nltk_data...\n",
            "[nltk_data]   Unzipping corpora/stopwords.zip.\n"
          ]
        },
        {
          "data": {
            "text/plain": [
              "True"
            ]
          },
          "execution_count": 6,
          "metadata": {},
          "output_type": "execute_result"
        }
      ],
      "source": [
        "#librerias\n",
        "import nltk\n",
        "nltk.download('stopwords')"
      ]
    },
    {
      "cell_type": "code",
      "execution_count": null,
      "metadata": {
        "id": "cWHfmfWvoXkx"
      },
      "outputs": [],
      "source": [
        "from nltk.corpus import stopwords\n",
        "\n",
        "stop = stopwords.words('english')"
      ]
    },
    {
      "cell_type": "code",
      "execution_count": null,
      "metadata": {
        "colab": {
          "base_uri": "https://localhost:8080/"
        },
        "id": "8jp--pEnohhX",
        "outputId": "8f16635f-e3f9-4502-a069-cbb745fc5b2e"
      },
      "outputs": [
        {
          "name": "stderr",
          "output_type": "stream",
          "text": [
            "/usr/local/lib/python3.9/dist-packages/sklearn/feature_extraction/text.py:528: UserWarning: The parameter 'token_pattern' will not be used since 'tokenizer' is not None'\n",
            "  warnings.warn(\n"
          ]
        }
      ],
      "source": [
        "from sklearn.feature_extraction.text import TfidfVectorizer\n",
        "\n",
        "tfidf = TfidfVectorizer(strip_accents = None,\n",
        "                        lowercase = False,\n",
        "                        preprocessor = None, #because we already did on our data\n",
        "                        tokenizer = tokenizer_porter, #stemming function\n",
        "                        use_idf = True,    #to downgrade according to frequency\n",
        "                        norm = 'l2',\n",
        "                        smooth_idf = True   #to avoid division by zero\n",
        "                       )\n",
        "\n",
        "#split to x, y components\n",
        "y = df.sentiment.values   #numpy array\n",
        "x = tfidf.fit_transform(df.review)"
      ]
    },
    {
      "cell_type": "code",
      "execution_count": null,
      "metadata": {
        "id": "hP8kBMdnoyZN"
      },
      "outputs": [],
      "source": [
        "from sklearn.model_selection import train_test_split\n",
        "\n",
        "X_train, X_test, Y_train, Y_test = train_test_split(x, y,\n",
        "                                                    random_state = 1, #to get same as instructor\n",
        "                                                    test_size = 0.2,\n",
        "                                                    shuffle = False\n",
        "                                                   )"
      ]
    },
    {
      "cell_type": "code",
      "execution_count": null,
      "metadata": {
        "colab": {
          "base_uri": "https://localhost:8080/"
        },
        "id": "-KzEf7i6pHch",
        "outputId": "79b0be38-193d-42a8-858a-fd91c878d064"
      },
      "outputs": [
        {
          "name": "stderr",
          "output_type": "stream",
          "text": [
            "[Parallel(n_jobs=-1)]: Using backend LokyBackend with 2 concurrent workers.\n",
            "[Parallel(n_jobs=-1)]: Done   5 out of   5 | elapsed:  4.7min finished\n"
          ]
        }
      ],
      "source": [
        "import pickle\n",
        "#to dump our model on the disk\n",
        "from sklearn.linear_model import LogisticRegressionCV\n",
        "#Log Regression has hyperparemters and instead of manually trying to fine tune it\n",
        "#we can use estimator of sklearn CV\n",
        "#The output of a logistic model can be interpreted as a probability.\n",
        "\n",
        "#Cross validation can be used to:\n",
        "#1- Tune Model Hyperparamters\n",
        "#2- Assess model performance out of sample\n",
        "\n",
        "clf = LogisticRegressionCV(cv = 5, #cross validation fold\n",
        "                          scoring = 'accuracy',\n",
        "                          random_state = 0,\n",
        "                          n_jobs = -1, #to deticate all our CPU to solving this task\n",
        "                          verbose = 3, #to see output while doing computations\n",
        "                          max_iter = 300    #for safety of convergence\n",
        "                          ).fit(X_train, Y_train)\n",
        "\n",
        "saved_model = open('saved_model.sav', 'wb')  #write bytes to this file\n",
        "pickle.dump(clf, saved_model)\n",
        "saved_model.close()"
      ]
    },
    {
      "cell_type": "code",
      "execution_count": null,
      "metadata": {
        "colab": {
          "base_uri": "https://localhost:8080/"
        },
        "id": "Jp2kB9IbpSkc",
        "outputId": "a37c4e9c-b1da-4fcc-cf49-2d8ab8223c52"
      },
      "outputs": [
        {
          "data": {
            "text/plain": [
              "0.8994"
            ]
          },
          "execution_count": 15,
          "metadata": {},
          "output_type": "execute_result"
        }
      ],
      "source": [
        "#Model Evaluation\n",
        "filename = 'saved_model.sav'\n",
        "saved_clf = pickle.load(open(filename, 'rb'))   #load from disk the saved model\n",
        "saved_clf.score(X_test, Y_test)"
      ]
    },
    {
      "cell_type": "code",
      "execution_count": null,
      "metadata": {
        "colab": {
          "base_uri": "https://localhost:8080/"
        },
        "id": "xJwx5mkGsA37",
        "outputId": "87d04d84-f312-4502-a33c-f3c0fb13f17f"
      },
      "outputs": [
        {
          "name": "stderr",
          "output_type": "stream",
          "text": [
            "[Parallel(n_jobs=-1)]: Using backend LokyBackend with 2 concurrent workers.\n",
            "[Parallel(n_jobs=-1)]: Done   5 out of   5 | elapsed:  4.7min finished\n",
            "[Parallel(n_jobs=-1)]: Using backend LokyBackend with 2 concurrent workers.\n",
            "[Parallel(n_jobs=-1)]: Done   5 out of   5 | elapsed:  4.5min finished\n",
            "[Parallel(n_jobs=-1)]: Using backend LokyBackend with 2 concurrent workers.\n",
            "[Parallel(n_jobs=-1)]: Done   5 out of   5 | elapsed:  4.4min finished\n",
            "[Parallel(n_jobs=-1)]: Using backend LokyBackend with 2 concurrent workers.\n",
            "[Parallel(n_jobs=-1)]: Done   5 out of   5 | elapsed:  4.3min finished\n",
            "[Parallel(n_jobs=-1)]: Using backend LokyBackend with 2 concurrent workers.\n",
            "[Parallel(n_jobs=-1)]: Done   5 out of   5 | elapsed:  4.3min finished\n"
          ]
        },
        {
          "name": "stdout",
          "output_type": "stream",
          "text": [
            "Precisión: 90.09%\n"
          ]
        }
      ],
      "source": [
        "from sklearn.model_selection import cross_val_score\n",
        "import numpy as np\n",
        "scores = cross_val_score(saved_clf, x, y, cv=5)\n",
        "print('Precisión: {:.2f}%'.format(np.mean(scores) * 100))"
      ]
    },
    {
      "cell_type": "code",
      "execution_count": null,
      "metadata": {
        "colab": {
          "base_uri": "https://localhost:8080/"
        },
        "id": "Xo3AqKgWzSgd",
        "outputId": "25fdc028-7aaf-43a8-be5d-262d541dcf32"
      },
      "outputs": [
        {
          "name": "stdout",
          "output_type": "stream",
          "text": [
            "0.8542\n",
            "Precisión: 85.79%\n"
          ]
        }
      ],
      "source": [
        "#naive bayes\n",
        "from sklearn.naive_bayes import MultinomialNB\n",
        "\n",
        "# Build a Gaussian Classifier\n",
        "model = MultinomialNB(fit_prior=True,)\n",
        "\n",
        "model.fit(X_train, Y_train)\n",
        "print(model.score(X_test, Y_test))\n",
        "\n",
        "from sklearn.model_selection import cross_val_score\n",
        "import numpy as np\n",
        "scores = cross_val_score(model, x, y, cv=5)\n",
        "print('Precisión: {:.2f}%'.format(np.mean(scores) * 100))\n"
      ]
    },
    {
      "cell_type": "markdown",
      "metadata": {
        "id": "2rgqMT-P2aYq"
      },
      "source": [
        "...........................................................\n"
      ]
    },
    {
      "cell_type": "code",
      "execution_count": null,
      "metadata": {
        "id": "8JgvKvJbn6jx"
      },
      "outputs": [],
      "source": [
        "import warnings\n",
        "warnings.filterwarnings('ignore')\n",
        "import numpy as np\n",
        "import pandas as pd\n",
        "import re\n",
        "import os\n",
        "import html\n",
        "import matplotlib.pyplot as plt\n",
        "import seaborn as sb\n",
        "\n",
        "from nltk import word_tokenize\n",
        "from nltk.corpus import stopwords\n",
        "from nltk.stem import WordNetLemmatizer\n",
        "from gensim.models import Word2Vec, Phrases\n",
        "from sklearn.model_selection import train_test_split\n",
        "from keras.models import Sequential\n",
        "from keras.layers import Dense, LSTM, Dropout, Bidirectional,Embedding\n",
        "from keras.utils import pad_sequences"
      ]
    },
    {
      "cell_type": "code",
      "execution_count": null,
      "metadata": {
        "id": "GQt8mOSxoBvN"
      },
      "outputs": [],
      "source": [
        "from sklearn.metrics import accuracy_score, precision_score, recall_score, f1_score\n",
        "from sklearn.metrics import confusion_matrix, classification_report\n",
        "from sklearn.ensemble import GradientBoostingClassifier, RandomForestClassifier\n",
        "from sklearn.tree import DecisionTreeClassifier\n",
        "from sklearn.linear_model import LogisticRegression\n",
        "from sklearn.neighbors import KNeighborsClassifier\n",
        "from sklearn.naive_bayes import GaussianNB, BernoulliNB, MultinomialNB\n",
        "from xgboost import XGBClassifier\n",
        "\n",
        "r = RandomForestClassifier()\n",
        "gbc = GradientBoostingClassifier()\n",
        "d = DecisionTreeClassifier()\n",
        "log = LogisticRegression()\n",
        "k = KNeighborsClassifier()\n",
        "g = GaussianNB()\n",
        "b = BernoulliNB()\n",
        "xgbc = XGBClassifier()\n",
        "nb = MultinomialNB()"
      ]
    },
    {
      "cell_type": "code",
      "execution_count": null,
      "metadata": {
        "colab": {
          "base_uri": "https://localhost:8080/"
        },
        "id": "7tZVO8D6ojBW",
        "outputId": "61aad9c7-7ec2-4483-fbbd-ef41f0b14a23"
      },
      "outputs": [
        {
          "data": {
            "text/plain": [
              "(50000, 2)"
            ]
          },
          "execution_count": 44,
          "metadata": {},
          "output_type": "execute_result"
        }
      ],
      "source": [
        "df=pd.read_csv(\"movie_data.csv\")\n",
        "df.shape"
      ]
    },
    {
      "cell_type": "code",
      "execution_count": null,
      "metadata": {
        "id": "mYiP-WwOqcUh"
      },
      "outputs": [],
      "source": [
        "df.review=html.unescape(df.review)\n",
        "# removing html symbols\n",
        "\n",
        "df.review=df.review.str.replace('http\\S+|www.\\S+', '', case=False).str.replace(r\"\\&\\#[0-9]+\\;\",\"\", regex=True) \\\n",
        ".str.replace(r\"[^\\w\\s]\",\"\").str.replace(\"\\d+\",\"\").str.replace(r\"[\\s]+\",\" \",regex=True) \\\n",
        ".str.replace(\"\\n\",\" \").replace(\"\\r\",\"\").str.replace(\"_\",\" \").str.lower()"
      ]
    },
    {
      "cell_type": "code",
      "execution_count": null,
      "metadata": {
        "id": "9NN2tSXgqrp_"
      },
      "outputs": [],
      "source": [
        "def remove_emoji(text):\n",
        "    emoji_pattern = re.compile(\"[\"\n",
        "                           u\"\\U0001F600-\\U0001F64F\"  # emoticons\n",
        "                           u\"\\U0001F300-\\U0001F5FF\"  # symbols & pictographs\n",
        "                           u\"\\U0001F680-\\U0001F6FF\"  # transport & map symbols\n",
        "                           u\"\\U0001F1E0-\\U0001F1FF\"  # flags (iOS)\n",
        "                           u\"\\U00002702-\\U000027B0\"\n",
        "                           u\"\\U000024C2-\\U0001F251\"\n",
        "                           \"]+\", flags=re.UNICODE)\n",
        "    return emoji_pattern.sub(r'', text)\n",
        "df['review']=df['review'].apply(lambda x: remove_emoji(x))"
      ]
    },
    {
      "cell_type": "code",
      "execution_count": null,
      "metadata": {
        "id": "skSWwUQRqtTU"
      },
      "outputs": [],
      "source": [
        "from unicodedata import normalize\n",
        "\n",
        "remove_accent = lambda text: normalize(\"NFKD\", text).encode(\"ascii\", \"ignore\").decode(\"utf-8\", \"ignore\")\n",
        "\n",
        "df[\"review\"] = df[\"review\"].apply(remove_accent)"
      ]
    },
    {
      "cell_type": "code",
      "execution_count": null,
      "metadata": {
        "colab": {
          "base_uri": "https://localhost:8080/",
          "height": 206
        },
        "id": "Mdf4CeMRqwLk",
        "outputId": "83c9c89d-e361-4f61-e941-fd9e5dd057be"
      },
      "outputs": [
        {
          "data": {
            "text/html": [
              "\n",
              "  <div id=\"df-f1151d28-736f-4ccb-bc8a-9bff4de6e4c6\">\n",
              "    <div class=\"colab-df-container\">\n",
              "      <div>\n",
              "<style scoped>\n",
              "    .dataframe tbody tr th:only-of-type {\n",
              "        vertical-align: middle;\n",
              "    }\n",
              "\n",
              "    .dataframe tbody tr th {\n",
              "        vertical-align: top;\n",
              "    }\n",
              "\n",
              "    .dataframe thead th {\n",
              "        text-align: right;\n",
              "    }\n",
              "</style>\n",
              "<table border=\"1\" class=\"dataframe\">\n",
              "  <thead>\n",
              "    <tr style=\"text-align: right;\">\n",
              "      <th></th>\n",
              "      <th>review</th>\n",
              "      <th>sentiment</th>\n",
              "    </tr>\n",
              "  </thead>\n",
              "  <tbody>\n",
              "    <tr>\n",
              "      <th>0</th>\n",
              "      <td>in the teenager martha moxley maggie grace mov...</td>\n",
              "      <td>1</td>\n",
              "    </tr>\n",
              "    <tr>\n",
              "      <th>1</th>\n",
              "      <td>ok so i really like kris kristofferson and his...</td>\n",
              "      <td>0</td>\n",
              "    </tr>\n",
              "    <tr>\n",
              "      <th>2</th>\n",
              "      <td>spoiler do not read this if you think about wa...</td>\n",
              "      <td>0</td>\n",
              "    </tr>\n",
              "    <tr>\n",
              "      <th>3</th>\n",
              "      <td>hi for all the people who have seen this wonde...</td>\n",
              "      <td>1</td>\n",
              "    </tr>\n",
              "    <tr>\n",
              "      <th>4</th>\n",
              "      <td>i recently bought the dvd forgetting just how ...</td>\n",
              "      <td>0</td>\n",
              "    </tr>\n",
              "  </tbody>\n",
              "</table>\n",
              "</div>\n",
              "      <button class=\"colab-df-convert\" onclick=\"convertToInteractive('df-f1151d28-736f-4ccb-bc8a-9bff4de6e4c6')\"\n",
              "              title=\"Convert this dataframe to an interactive table.\"\n",
              "              style=\"display:none;\">\n",
              "        \n",
              "  <svg xmlns=\"http://www.w3.org/2000/svg\" height=\"24px\"viewBox=\"0 0 24 24\"\n",
              "       width=\"24px\">\n",
              "    <path d=\"M0 0h24v24H0V0z\" fill=\"none\"/>\n",
              "    <path d=\"M18.56 5.44l.94 2.06.94-2.06 2.06-.94-2.06-.94-.94-2.06-.94 2.06-2.06.94zm-11 1L8.5 8.5l.94-2.06 2.06-.94-2.06-.94L8.5 2.5l-.94 2.06-2.06.94zm10 10l.94 2.06.94-2.06 2.06-.94-2.06-.94-.94-2.06-.94 2.06-2.06.94z\"/><path d=\"M17.41 7.96l-1.37-1.37c-.4-.4-.92-.59-1.43-.59-.52 0-1.04.2-1.43.59L10.3 9.45l-7.72 7.72c-.78.78-.78 2.05 0 2.83L4 21.41c.39.39.9.59 1.41.59.51 0 1.02-.2 1.41-.59l7.78-7.78 2.81-2.81c.8-.78.8-2.07 0-2.86zM5.41 20L4 18.59l7.72-7.72 1.47 1.35L5.41 20z\"/>\n",
              "  </svg>\n",
              "      </button>\n",
              "      \n",
              "  <style>\n",
              "    .colab-df-container {\n",
              "      display:flex;\n",
              "      flex-wrap:wrap;\n",
              "      gap: 12px;\n",
              "    }\n",
              "\n",
              "    .colab-df-convert {\n",
              "      background-color: #E8F0FE;\n",
              "      border: none;\n",
              "      border-radius: 50%;\n",
              "      cursor: pointer;\n",
              "      display: none;\n",
              "      fill: #1967D2;\n",
              "      height: 32px;\n",
              "      padding: 0 0 0 0;\n",
              "      width: 32px;\n",
              "    }\n",
              "\n",
              "    .colab-df-convert:hover {\n",
              "      background-color: #E2EBFA;\n",
              "      box-shadow: 0px 1px 2px rgba(60, 64, 67, 0.3), 0px 1px 3px 1px rgba(60, 64, 67, 0.15);\n",
              "      fill: #174EA6;\n",
              "    }\n",
              "\n",
              "    [theme=dark] .colab-df-convert {\n",
              "      background-color: #3B4455;\n",
              "      fill: #D2E3FC;\n",
              "    }\n",
              "\n",
              "    [theme=dark] .colab-df-convert:hover {\n",
              "      background-color: #434B5C;\n",
              "      box-shadow: 0px 1px 3px 1px rgba(0, 0, 0, 0.15);\n",
              "      filter: drop-shadow(0px 1px 2px rgba(0, 0, 0, 0.3));\n",
              "      fill: #FFFFFF;\n",
              "    }\n",
              "  </style>\n",
              "\n",
              "      <script>\n",
              "        const buttonEl =\n",
              "          document.querySelector('#df-f1151d28-736f-4ccb-bc8a-9bff4de6e4c6 button.colab-df-convert');\n",
              "        buttonEl.style.display =\n",
              "          google.colab.kernel.accessAllowed ? 'block' : 'none';\n",
              "\n",
              "        async function convertToInteractive(key) {\n",
              "          const element = document.querySelector('#df-f1151d28-736f-4ccb-bc8a-9bff4de6e4c6');\n",
              "          const dataTable =\n",
              "            await google.colab.kernel.invokeFunction('convertToInteractive',\n",
              "                                                     [key], {});\n",
              "          if (!dataTable) return;\n",
              "\n",
              "          const docLinkHtml = 'Like what you see? Visit the ' +\n",
              "            '<a target=\"_blank\" href=https://colab.research.google.com/notebooks/data_table.ipynb>data table notebook</a>'\n",
              "            + ' to learn more about interactive tables.';\n",
              "          element.innerHTML = '';\n",
              "          dataTable['output_type'] = 'display_data';\n",
              "          await google.colab.output.renderOutput(dataTable, element);\n",
              "          const docLink = document.createElement('div');\n",
              "          docLink.innerHTML = docLinkHtml;\n",
              "          element.appendChild(docLink);\n",
              "        }\n",
              "      </script>\n",
              "    </div>\n",
              "  </div>\n",
              "  "
            ],
            "text/plain": [
              "                                              review  sentiment\n",
              "0  in the teenager martha moxley maggie grace mov...          1\n",
              "1  ok so i really like kris kristofferson and his...          0\n",
              "2  spoiler do not read this if you think about wa...          0\n",
              "3  hi for all the people who have seen this wonde...          1\n",
              "4  i recently bought the dvd forgetting just how ...          0"
            ]
          },
          "execution_count": 18,
          "metadata": {},
          "output_type": "execute_result"
        }
      ],
      "source": [
        "df.head()"
      ]
    },
    {
      "cell_type": "code",
      "execution_count": null,
      "metadata": {
        "colab": {
          "base_uri": "https://localhost:8080/"
        },
        "id": "pinD5Vd1q1GY",
        "outputId": "cedc02e9-fd64-4c51-b684-460e1bc875f5"
      },
      "outputs": [
        {
          "name": "stdout",
          "output_type": "stream",
          "text": [
            "['lets', 'see', 'what', 'are', 'the', 'advantages', 'to', 'watching', 'piranha', 'piranha', 'well', 'if', 'youve', 'never', 'seen', 'anything', 'to', 'do', 'with', 'venezuela', 'theres', 'a', 'lot', 'of', 'travelogue', 'footage', 'of', 'both', 'caracas', 'and', 'the', 'countryside', 'and', 'jungleside', 'and', 'of', 'the', 'various', 'native', 'peoples', 'at', 'work', 'and', 'play', 'as', 'well', 'as', 'plenty', 'of', 'indigenous', 'wildlife', 'if', 'you', 'like', 'william', 'smith', 'he', 'plays', 'a', 'bit', 'of', 'a', 'git', 'as', 'he', 'has', 'always', 'been', 'wont', 'to', 'dobr', 'br', 'and', 'thats', 'about', 'it', 'if', 'it', 'wasnt', 'for', 'william', 'smith', 'this', 'could', 'probably', 'pass', 'as', 'a', 'fundraising', 'film', 'for', 'save', 'the', 'children', 'or', 'some', 'other', 'organization', 'that', 'benefits', 'the', 'third', 'world', 'the', 'only', 'time', 'you', 'really', 'see', 'the', 'fish', 'of', 'the', 'title', 'is', 'during', 'the', 'opening', 'credits', 'no', 'mutant', 'killer', 'fish', 'like', 'in', 'roger', 'cormans', 'singlynamed', 'piranha', 'youd', 'figure', 'with', 'twice', 'the', 'fish', 'in', 'the', 'title', 'there', 'would', 'be', 'twice', 'as', 'many', 'monster', 'fish', 'preying', 'on', 'the', 'characters', 'but', 'alas', 'this', 'is', 'not', 'the', 'casebr', 'br', 'the', 'story', 'starts', 'with', 'a', 'photojournalist', 'and', 'her', 'brother', 'coming', 'to', 'venezuela', 'to', 'do', 'a', 'story', 'on', 'one', 'of', 'the', 'last', 'untouched', 'places', 'on', 'the', 'planet', 'but', 'their', 'motivation', 'quickly', 'changes', 'to', 'one', 'of', 'wanting', 'to', 'find', 'diamonds', 'which', 'are', 'apparently', 'fairly', 'plentiful', 'therebr', 'br', 'theres', 'not', 'a', 'lot', 'of', 'real', 'action', 'or', 'danger', 'in', 'this', 'movie', 'what', 'couldve', 'been', 'an', 'exciting', 'motorcycle', 'race', 'is', 'dulled', 'by', 'the', 'mass', 'of', 'landscape', 'and', 'animal', 'footage', 'that', 'is', 'inserted', 'in', 'it', 'to', 'draw', 'out', 'the', 'films', 'running', 'time', 'theres', 'not', 'a', 'whole', 'lot', 'more', 'action', 'until', 'the', 'last', 'fifteen', 'minutes', 'or', 'so', 'of', 'the', 'movie', 'which', 'is', 'probably', 'about', 'how', 'long', 'the', 'movie', 'would', 'last', 'without', 'all', 'the', 'traveloguerybr', 'br', 'in', 'my', 'view', 'the', 'only', 'ways', 'that', 'a', 'movie', 'can', 'really', 'be', 'a', 'bad', 'movie', 'is', 'to', 'be', 'boring', 'or', 'incredibly', 'stupid', 'piranha', 'piranha', 'certainly', 'qualifies', 'for', 'that', 'former', 'badge', 'and', 'is', 'pretty', 'damn', 'close', 'to', 'the', 'second', 'the', 'only', 'reason', 'i', 'wont', 'rate', 'it', 'a', 'is', 'that', 'the', 'added', 'footage', 'is', 'more', 'interesting', 'than', 'the', 'rest', 'of', 'the', 'movie']\n"
          ]
        }
      ],
      "source": [
        "corpora = df[\"review\"].values\n",
        "tokenized = [word_tokenize(corpus) for corpus in corpora]\n",
        "\n",
        "print(tokenized[2222])"
      ]
    },
    {
      "cell_type": "code",
      "execution_count": null,
      "metadata": {
        "colab": {
          "base_uri": "https://localhost:8080/"
        },
        "id": "z0U-K2s7q7kf",
        "outputId": "8713aeb9-245b-4601-bf2f-c2ac68f2fdb0"
      },
      "outputs": [
        {
          "name": "stdout",
          "output_type": "stream",
          "text": [
            "['lets', 'see', 'what', 'are', 'the', 'advantages', 'to', 'watching', 'piranha', 'piranha', 'well', 'if', 'youve', 'never', 'seen', 'anything', 'to', 'do', 'with', 'venezuela', 'theres', 'lot', 'of', 'travelogue', 'footage', 'of', 'both', 'caracas', 'and', 'the', 'countryside', 'and', 'jungleside', 'and', 'of', 'the', 'various', 'native', 'peoples', 'at', 'work', 'and', 'play', 'as', 'well', 'as', 'plenty', 'of', 'indigenous', 'wildlife', 'if', 'you', 'like', 'william', 'smith', 'he', 'plays', 'bit', 'of', 'git', 'as', 'he', 'has', 'always', 'been', 'wont', 'to', 'dobr', 'br', 'and', 'thats', 'about', 'it', 'if', 'it', 'wasnt', 'for', 'william', 'smith', 'this', 'could', 'probably', 'pass', 'as', 'fundraising', 'film', 'for', 'save', 'the', 'children', 'or', 'some', 'other', 'organization', 'that', 'benefits', 'the', 'third', 'world', 'the', 'only', 'time', 'you', 'really', 'see', 'the', 'fish', 'of', 'the', 'title', 'is', 'during', 'the', 'opening', 'credits', 'no', 'mutant', 'killer', 'fish', 'like', 'in', 'roger', 'cormans', 'singlynamed', 'piranha', 'youd', 'figure', 'with', 'twice', 'the', 'fish', 'in', 'the', 'title', 'there', 'would', 'be', 'twice', 'as', 'many', 'monster', 'fish', 'preying', 'on', 'the', 'characters', 'but', 'alas', 'this', 'is', 'not', 'the', 'casebr', 'br', 'the', 'story', 'starts', 'with', 'photojournalist', 'and', 'her', 'brother', 'coming', 'to', 'venezuela', 'to', 'do', 'story', 'on', 'one', 'of', 'the', 'last', 'untouched', 'places', 'on', 'the', 'planet', 'but', 'their', 'motivation', 'quickly', 'changes', 'to', 'one', 'of', 'wanting', 'to', 'find', 'diamonds', 'which', 'are', 'apparently', 'fairly', 'plentiful', 'therebr', 'br', 'theres', 'not', 'lot', 'of', 'real', 'action', 'or', 'danger', 'in', 'this', 'movie', 'what', 'couldve', 'been', 'an', 'exciting', 'motorcycle', 'race', 'is', 'dulled', 'by', 'the', 'mass', 'of', 'landscape', 'and', 'animal', 'footage', 'that', 'is', 'inserted', 'in', 'it', 'to', 'draw', 'out', 'the', 'films', 'running', 'time', 'theres', 'not', 'whole', 'lot', 'more', 'action', 'until', 'the', 'last', 'fifteen', 'minutes', 'or', 'so', 'of', 'the', 'movie', 'which', 'is', 'probably', 'about', 'how', 'long', 'the', 'movie', 'would', 'last', 'without', 'all', 'the', 'traveloguerybr', 'br', 'in', 'my', 'view', 'the', 'only', 'ways', 'that', 'movie', 'can', 'really', 'be', 'bad', 'movie', 'is', 'to', 'be', 'boring', 'or', 'incredibly', 'stupid', 'piranha', 'piranha', 'certainly', 'qualifies', 'for', 'that', 'former', 'badge', 'and', 'is', 'pretty', 'damn', 'close', 'to', 'the', 'second', 'the', 'only', 'reason', 'wont', 'rate', 'it', 'is', 'that', 'the', 'added', 'footage', 'is', 'more', 'interesting', 'than', 'the', 'rest', 'of', 'the', 'movie']\n"
          ]
        }
      ],
      "source": [
        "tokenized = [list(filter(lambda x: len(x) > 1, document)) \\\n",
        "             for document in tokenized]\n",
        "\n",
        "print(tokenized[2222])"
      ]
    },
    {
      "cell_type": "code",
      "execution_count": null,
      "metadata": {
        "colab": {
          "base_uri": "https://localhost:8080/"
        },
        "id": "fO4Uz7c_rDK1",
        "outputId": "582f15ac-746a-4ac5-a48e-964362f0e4f6"
      },
      "outputs": [
        {
          "name": "stdout",
          "output_type": "stream",
          "text": [
            "CPU times: user 35min 24s, sys: 8.69 s, total: 35min 33s\n",
            "Wall time: 21min 20s\n"
          ]
        }
      ],
      "source": [
        "%%time\n",
        "from gensim.models import word2vec\n",
        "np.set_printoptions(suppress=True)\n",
        "\n",
        "feature_size = 256\n",
        "context_size = 5\n",
        "min_word = 1\n",
        "\n",
        "word_vec= word2vec.Word2Vec(tokenized, vector_size=feature_size, \\\n",
        "                            window=context_size, min_count=min_word, \\\n",
        "                            epochs=50, seed=42)"
      ]
    },
    {
      "cell_type": "code",
      "execution_count": null,
      "metadata": {
        "colab": {
          "base_uri": "https://localhost:8080/",
          "height": 300
        },
        "id": "VO3SJCfmrdp7",
        "outputId": "1738931f-6fa8-4a3b-e569-b2de0ae8b920"
      },
      "outputs": [
        {
          "data": {
            "text/html": [
              "\n",
              "  <div id=\"df-268ff85f-a960-4e99-acbe-f27f1b9fc6f6\">\n",
              "    <div class=\"colab-df-container\">\n",
              "      <div>\n",
              "<style scoped>\n",
              "    .dataframe tbody tr th:only-of-type {\n",
              "        vertical-align: middle;\n",
              "    }\n",
              "\n",
              "    .dataframe tbody tr th {\n",
              "        vertical-align: top;\n",
              "    }\n",
              "\n",
              "    .dataframe thead th {\n",
              "        text-align: right;\n",
              "    }\n",
              "</style>\n",
              "<table border=\"1\" class=\"dataframe\">\n",
              "  <thead>\n",
              "    <tr style=\"text-align: right;\">\n",
              "      <th></th>\n",
              "      <th>0</th>\n",
              "      <th>1</th>\n",
              "      <th>2</th>\n",
              "      <th>3</th>\n",
              "      <th>4</th>\n",
              "      <th>5</th>\n",
              "      <th>6</th>\n",
              "      <th>7</th>\n",
              "      <th>8</th>\n",
              "      <th>9</th>\n",
              "      <th>...</th>\n",
              "      <th>246</th>\n",
              "      <th>247</th>\n",
              "      <th>248</th>\n",
              "      <th>249</th>\n",
              "      <th>250</th>\n",
              "      <th>251</th>\n",
              "      <th>252</th>\n",
              "      <th>253</th>\n",
              "      <th>254</th>\n",
              "      <th>255</th>\n",
              "    </tr>\n",
              "  </thead>\n",
              "  <tbody>\n",
              "    <tr>\n",
              "      <th>the</th>\n",
              "      <td>0.734139</td>\n",
              "      <td>2.229972</td>\n",
              "      <td>0.315681</td>\n",
              "      <td>-0.356044</td>\n",
              "      <td>-1.057194</td>\n",
              "      <td>0.017471</td>\n",
              "      <td>1.355984</td>\n",
              "      <td>0.502802</td>\n",
              "      <td>0.795299</td>\n",
              "      <td>0.673036</td>\n",
              "      <td>...</td>\n",
              "      <td>-0.907460</td>\n",
              "      <td>-0.267086</td>\n",
              "      <td>-2.515186</td>\n",
              "      <td>0.480873</td>\n",
              "      <td>0.426941</td>\n",
              "      <td>1.928551</td>\n",
              "      <td>0.056792</td>\n",
              "      <td>-0.726978</td>\n",
              "      <td>0.679947</td>\n",
              "      <td>-0.170358</td>\n",
              "    </tr>\n",
              "    <tr>\n",
              "      <th>and</th>\n",
              "      <td>0.446499</td>\n",
              "      <td>2.448096</td>\n",
              "      <td>-0.232688</td>\n",
              "      <td>0.378139</td>\n",
              "      <td>0.648629</td>\n",
              "      <td>0.066851</td>\n",
              "      <td>0.624525</td>\n",
              "      <td>-1.285679</td>\n",
              "      <td>1.427134</td>\n",
              "      <td>1.385995</td>\n",
              "      <td>...</td>\n",
              "      <td>-1.589221</td>\n",
              "      <td>-1.652006</td>\n",
              "      <td>-0.454163</td>\n",
              "      <td>-0.751757</td>\n",
              "      <td>0.464214</td>\n",
              "      <td>1.143589</td>\n",
              "      <td>-1.495321</td>\n",
              "      <td>-0.047105</td>\n",
              "      <td>0.892621</td>\n",
              "      <td>0.982906</td>\n",
              "    </tr>\n",
              "    <tr>\n",
              "      <th>of</th>\n",
              "      <td>-0.147599</td>\n",
              "      <td>2.494300</td>\n",
              "      <td>0.555105</td>\n",
              "      <td>-0.496411</td>\n",
              "      <td>-0.557874</td>\n",
              "      <td>0.613053</td>\n",
              "      <td>0.615211</td>\n",
              "      <td>-1.358534</td>\n",
              "      <td>1.711356</td>\n",
              "      <td>0.411011</td>\n",
              "      <td>...</td>\n",
              "      <td>-1.521428</td>\n",
              "      <td>-1.780798</td>\n",
              "      <td>-1.677066</td>\n",
              "      <td>-0.339520</td>\n",
              "      <td>-1.274597</td>\n",
              "      <td>2.814276</td>\n",
              "      <td>-1.364223</td>\n",
              "      <td>0.188291</td>\n",
              "      <td>2.688517</td>\n",
              "      <td>0.283863</td>\n",
              "    </tr>\n",
              "    <tr>\n",
              "      <th>to</th>\n",
              "      <td>-1.889131</td>\n",
              "      <td>1.381954</td>\n",
              "      <td>-1.263040</td>\n",
              "      <td>1.899062</td>\n",
              "      <td>-3.350074</td>\n",
              "      <td>0.410330</td>\n",
              "      <td>-0.685236</td>\n",
              "      <td>0.165583</td>\n",
              "      <td>1.052480</td>\n",
              "      <td>-0.134241</td>\n",
              "      <td>...</td>\n",
              "      <td>-1.124468</td>\n",
              "      <td>0.906864</td>\n",
              "      <td>-0.097759</td>\n",
              "      <td>-3.000925</td>\n",
              "      <td>0.179575</td>\n",
              "      <td>1.167197</td>\n",
              "      <td>-0.166184</td>\n",
              "      <td>2.262625</td>\n",
              "      <td>0.116321</td>\n",
              "      <td>0.794828</td>\n",
              "    </tr>\n",
              "    <tr>\n",
              "      <th>is</th>\n",
              "      <td>0.160157</td>\n",
              "      <td>-1.241041</td>\n",
              "      <td>-0.644555</td>\n",
              "      <td>-2.192692</td>\n",
              "      <td>1.506773</td>\n",
              "      <td>-0.829767</td>\n",
              "      <td>1.360211</td>\n",
              "      <td>-3.042253</td>\n",
              "      <td>0.640717</td>\n",
              "      <td>-0.296228</td>\n",
              "      <td>...</td>\n",
              "      <td>-0.963103</td>\n",
              "      <td>-1.751874</td>\n",
              "      <td>-1.052385</td>\n",
              "      <td>0.591137</td>\n",
              "      <td>-2.286868</td>\n",
              "      <td>1.617154</td>\n",
              "      <td>1.303672</td>\n",
              "      <td>1.361796</td>\n",
              "      <td>0.212736</td>\n",
              "      <td>2.077106</td>\n",
              "    </tr>\n",
              "  </tbody>\n",
              "</table>\n",
              "<p>5 rows × 256 columns</p>\n",
              "</div>\n",
              "      <button class=\"colab-df-convert\" onclick=\"convertToInteractive('df-268ff85f-a960-4e99-acbe-f27f1b9fc6f6')\"\n",
              "              title=\"Convert this dataframe to an interactive table.\"\n",
              "              style=\"display:none;\">\n",
              "        \n",
              "  <svg xmlns=\"http://www.w3.org/2000/svg\" height=\"24px\"viewBox=\"0 0 24 24\"\n",
              "       width=\"24px\">\n",
              "    <path d=\"M0 0h24v24H0V0z\" fill=\"none\"/>\n",
              "    <path d=\"M18.56 5.44l.94 2.06.94-2.06 2.06-.94-2.06-.94-.94-2.06-.94 2.06-2.06.94zm-11 1L8.5 8.5l.94-2.06 2.06-.94-2.06-.94L8.5 2.5l-.94 2.06-2.06.94zm10 10l.94 2.06.94-2.06 2.06-.94-2.06-.94-.94-2.06-.94 2.06-2.06.94z\"/><path d=\"M17.41 7.96l-1.37-1.37c-.4-.4-.92-.59-1.43-.59-.52 0-1.04.2-1.43.59L10.3 9.45l-7.72 7.72c-.78.78-.78 2.05 0 2.83L4 21.41c.39.39.9.59 1.41.59.51 0 1.02-.2 1.41-.59l7.78-7.78 2.81-2.81c.8-.78.8-2.07 0-2.86zM5.41 20L4 18.59l7.72-7.72 1.47 1.35L5.41 20z\"/>\n",
              "  </svg>\n",
              "      </button>\n",
              "      \n",
              "  <style>\n",
              "    .colab-df-container {\n",
              "      display:flex;\n",
              "      flex-wrap:wrap;\n",
              "      gap: 12px;\n",
              "    }\n",
              "\n",
              "    .colab-df-convert {\n",
              "      background-color: #E8F0FE;\n",
              "      border: none;\n",
              "      border-radius: 50%;\n",
              "      cursor: pointer;\n",
              "      display: none;\n",
              "      fill: #1967D2;\n",
              "      height: 32px;\n",
              "      padding: 0 0 0 0;\n",
              "      width: 32px;\n",
              "    }\n",
              "\n",
              "    .colab-df-convert:hover {\n",
              "      background-color: #E2EBFA;\n",
              "      box-shadow: 0px 1px 2px rgba(60, 64, 67, 0.3), 0px 1px 3px 1px rgba(60, 64, 67, 0.15);\n",
              "      fill: #174EA6;\n",
              "    }\n",
              "\n",
              "    [theme=dark] .colab-df-convert {\n",
              "      background-color: #3B4455;\n",
              "      fill: #D2E3FC;\n",
              "    }\n",
              "\n",
              "    [theme=dark] .colab-df-convert:hover {\n",
              "      background-color: #434B5C;\n",
              "      box-shadow: 0px 1px 3px 1px rgba(0, 0, 0, 0.15);\n",
              "      filter: drop-shadow(0px 1px 2px rgba(0, 0, 0, 0.3));\n",
              "      fill: #FFFFFF;\n",
              "    }\n",
              "  </style>\n",
              "\n",
              "      <script>\n",
              "        const buttonEl =\n",
              "          document.querySelector('#df-268ff85f-a960-4e99-acbe-f27f1b9fc6f6 button.colab-df-convert');\n",
              "        buttonEl.style.display =\n",
              "          google.colab.kernel.accessAllowed ? 'block' : 'none';\n",
              "\n",
              "        async function convertToInteractive(key) {\n",
              "          const element = document.querySelector('#df-268ff85f-a960-4e99-acbe-f27f1b9fc6f6');\n",
              "          const dataTable =\n",
              "            await google.colab.kernel.invokeFunction('convertToInteractive',\n",
              "                                                     [key], {});\n",
              "          if (!dataTable) return;\n",
              "\n",
              "          const docLinkHtml = 'Like what you see? Visit the ' +\n",
              "            '<a target=\"_blank\" href=https://colab.research.google.com/notebooks/data_table.ipynb>data table notebook</a>'\n",
              "            + ' to learn more about interactive tables.';\n",
              "          element.innerHTML = '';\n",
              "          dataTable['output_type'] = 'display_data';\n",
              "          await google.colab.output.renderOutput(dataTable, element);\n",
              "          const docLink = document.createElement('div');\n",
              "          docLink.innerHTML = docLinkHtml;\n",
              "          element.appendChild(docLink);\n",
              "        }\n",
              "      </script>\n",
              "    </div>\n",
              "  </div>\n",
              "  "
            ],
            "text/plain": [
              "          0         1         2         3         4         5         6    \\\n",
              "the  0.734139  2.229972  0.315681 -0.356044 -1.057194  0.017471  1.355984   \n",
              "and  0.446499  2.448096 -0.232688  0.378139  0.648629  0.066851  0.624525   \n",
              "of  -0.147599  2.494300  0.555105 -0.496411 -0.557874  0.613053  0.615211   \n",
              "to  -1.889131  1.381954 -1.263040  1.899062 -3.350074  0.410330 -0.685236   \n",
              "is   0.160157 -1.241041 -0.644555 -2.192692  1.506773 -0.829767  1.360211   \n",
              "\n",
              "          7         8         9    ...       246       247       248  \\\n",
              "the  0.502802  0.795299  0.673036  ... -0.907460 -0.267086 -2.515186   \n",
              "and -1.285679  1.427134  1.385995  ... -1.589221 -1.652006 -0.454163   \n",
              "of  -1.358534  1.711356  0.411011  ... -1.521428 -1.780798 -1.677066   \n",
              "to   0.165583  1.052480 -0.134241  ... -1.124468  0.906864 -0.097759   \n",
              "is  -3.042253  0.640717 -0.296228  ... -0.963103 -1.751874 -1.052385   \n",
              "\n",
              "          249       250       251       252       253       254       255  \n",
              "the  0.480873  0.426941  1.928551  0.056792 -0.726978  0.679947 -0.170358  \n",
              "and -0.751757  0.464214  1.143589 -1.495321 -0.047105  0.892621  0.982906  \n",
              "of  -0.339520 -1.274597  2.814276 -1.364223  0.188291  2.688517  0.283863  \n",
              "to  -3.000925  0.179575  1.167197 -0.166184  2.262625  0.116321  0.794828  \n",
              "is   0.591137 -2.286868  1.617154  1.303672  1.361796  0.212736  2.077106  \n",
              "\n",
              "[5 rows x 256 columns]"
            ]
          },
          "execution_count": 22,
          "metadata": {},
          "output_type": "execute_result"
        }
      ],
      "source": [
        "word_vec_unpack = [(word, idx) for word, idx in \\\n",
        "                   word_vec.wv.key_to_index.items()]\n",
        "\n",
        "tokens, indexes = zip(*word_vec_unpack)\n",
        "\n",
        "word_vec_df = pd.DataFrame(word_vec.wv.vectors[indexes, :], index=tokens)\n",
        "\n",
        "word_vec_df.head()"
      ]
    },
    {
      "cell_type": "code",
      "execution_count": null,
      "metadata": {
        "id": "Vv9kemYDrg34"
      },
      "outputs": [],
      "source": [
        "tokenized_array = np.array(tokenized)\n",
        "\n",
        "model_array = np.array([word_vec_df.loc[doc].mean(axis=0) for doc in tokenized_array])"
      ]
    },
    {
      "cell_type": "code",
      "execution_count": null,
      "metadata": {
        "colab": {
          "base_uri": "https://localhost:8080/",
          "height": 300
        },
        "id": "vzyTf7PVrkBm",
        "outputId": "cb98cb30-11ee-43f6-d4c5-ca153d468923"
      },
      "outputs": [
        {
          "data": {
            "text/html": [
              "\n",
              "  <div id=\"df-7c81d7d5-5867-4842-8e73-7112d2c1a472\">\n",
              "    <div class=\"colab-df-container\">\n",
              "      <div>\n",
              "<style scoped>\n",
              "    .dataframe tbody tr th:only-of-type {\n",
              "        vertical-align: middle;\n",
              "    }\n",
              "\n",
              "    .dataframe tbody tr th {\n",
              "        vertical-align: top;\n",
              "    }\n",
              "\n",
              "    .dataframe thead th {\n",
              "        text-align: right;\n",
              "    }\n",
              "</style>\n",
              "<table border=\"1\" class=\"dataframe\">\n",
              "  <thead>\n",
              "    <tr style=\"text-align: right;\">\n",
              "      <th></th>\n",
              "      <th>0</th>\n",
              "      <th>1</th>\n",
              "      <th>2</th>\n",
              "      <th>3</th>\n",
              "      <th>4</th>\n",
              "      <th>5</th>\n",
              "      <th>6</th>\n",
              "      <th>7</th>\n",
              "      <th>8</th>\n",
              "      <th>9</th>\n",
              "      <th>...</th>\n",
              "      <th>247</th>\n",
              "      <th>248</th>\n",
              "      <th>249</th>\n",
              "      <th>250</th>\n",
              "      <th>251</th>\n",
              "      <th>252</th>\n",
              "      <th>253</th>\n",
              "      <th>254</th>\n",
              "      <th>255</th>\n",
              "      <th>sentiment</th>\n",
              "    </tr>\n",
              "  </thead>\n",
              "  <tbody>\n",
              "    <tr>\n",
              "      <th>0</th>\n",
              "      <td>-0.051582</td>\n",
              "      <td>0.570248</td>\n",
              "      <td>0.040246</td>\n",
              "      <td>0.067682</td>\n",
              "      <td>-0.105656</td>\n",
              "      <td>0.009550</td>\n",
              "      <td>0.401517</td>\n",
              "      <td>-0.158584</td>\n",
              "      <td>0.235116</td>\n",
              "      <td>0.179076</td>\n",
              "      <td>...</td>\n",
              "      <td>-0.563176</td>\n",
              "      <td>-0.739814</td>\n",
              "      <td>0.220644</td>\n",
              "      <td>0.139754</td>\n",
              "      <td>0.487044</td>\n",
              "      <td>0.166534</td>\n",
              "      <td>-0.254475</td>\n",
              "      <td>0.420872</td>\n",
              "      <td>0.360018</td>\n",
              "      <td>1</td>\n",
              "    </tr>\n",
              "    <tr>\n",
              "      <th>1</th>\n",
              "      <td>0.242752</td>\n",
              "      <td>0.744204</td>\n",
              "      <td>-0.326520</td>\n",
              "      <td>0.501842</td>\n",
              "      <td>-0.140068</td>\n",
              "      <td>-0.369483</td>\n",
              "      <td>0.182902</td>\n",
              "      <td>0.203072</td>\n",
              "      <td>0.516719</td>\n",
              "      <td>-0.178889</td>\n",
              "      <td>...</td>\n",
              "      <td>-0.860914</td>\n",
              "      <td>-0.490854</td>\n",
              "      <td>0.187276</td>\n",
              "      <td>0.358855</td>\n",
              "      <td>0.758482</td>\n",
              "      <td>-0.067636</td>\n",
              "      <td>0.368059</td>\n",
              "      <td>0.372971</td>\n",
              "      <td>0.128585</td>\n",
              "      <td>0</td>\n",
              "    </tr>\n",
              "    <tr>\n",
              "      <th>2</th>\n",
              "      <td>0.289110</td>\n",
              "      <td>0.716244</td>\n",
              "      <td>-0.452071</td>\n",
              "      <td>0.423843</td>\n",
              "      <td>-0.373148</td>\n",
              "      <td>-0.238765</td>\n",
              "      <td>0.226855</td>\n",
              "      <td>0.133143</td>\n",
              "      <td>0.340012</td>\n",
              "      <td>-0.048586</td>\n",
              "      <td>...</td>\n",
              "      <td>-0.962714</td>\n",
              "      <td>-0.433975</td>\n",
              "      <td>0.241466</td>\n",
              "      <td>0.128264</td>\n",
              "      <td>0.709162</td>\n",
              "      <td>-0.060428</td>\n",
              "      <td>0.209797</td>\n",
              "      <td>0.415088</td>\n",
              "      <td>0.091796</td>\n",
              "      <td>0</td>\n",
              "    </tr>\n",
              "    <tr>\n",
              "      <th>3</th>\n",
              "      <td>0.480448</td>\n",
              "      <td>0.977004</td>\n",
              "      <td>-0.691104</td>\n",
              "      <td>0.523501</td>\n",
              "      <td>-0.009103</td>\n",
              "      <td>-0.555272</td>\n",
              "      <td>0.025371</td>\n",
              "      <td>0.196469</td>\n",
              "      <td>0.171471</td>\n",
              "      <td>-0.097997</td>\n",
              "      <td>...</td>\n",
              "      <td>-0.936871</td>\n",
              "      <td>-0.162587</td>\n",
              "      <td>0.433401</td>\n",
              "      <td>0.554998</td>\n",
              "      <td>0.864708</td>\n",
              "      <td>-0.255073</td>\n",
              "      <td>0.094750</td>\n",
              "      <td>0.489902</td>\n",
              "      <td>0.199703</td>\n",
              "      <td>1</td>\n",
              "    </tr>\n",
              "    <tr>\n",
              "      <th>4</th>\n",
              "      <td>0.272247</td>\n",
              "      <td>0.879382</td>\n",
              "      <td>-0.124634</td>\n",
              "      <td>0.142605</td>\n",
              "      <td>-0.391232</td>\n",
              "      <td>-0.250622</td>\n",
              "      <td>-0.010837</td>\n",
              "      <td>0.138314</td>\n",
              "      <td>0.365303</td>\n",
              "      <td>0.025585</td>\n",
              "      <td>...</td>\n",
              "      <td>-0.647363</td>\n",
              "      <td>-0.752626</td>\n",
              "      <td>-0.145893</td>\n",
              "      <td>0.086402</td>\n",
              "      <td>0.924967</td>\n",
              "      <td>-0.088269</td>\n",
              "      <td>-0.028738</td>\n",
              "      <td>0.462544</td>\n",
              "      <td>0.275848</td>\n",
              "      <td>0</td>\n",
              "    </tr>\n",
              "  </tbody>\n",
              "</table>\n",
              "<p>5 rows × 257 columns</p>\n",
              "</div>\n",
              "      <button class=\"colab-df-convert\" onclick=\"convertToInteractive('df-7c81d7d5-5867-4842-8e73-7112d2c1a472')\"\n",
              "              title=\"Convert this dataframe to an interactive table.\"\n",
              "              style=\"display:none;\">\n",
              "        \n",
              "  <svg xmlns=\"http://www.w3.org/2000/svg\" height=\"24px\"viewBox=\"0 0 24 24\"\n",
              "       width=\"24px\">\n",
              "    <path d=\"M0 0h24v24H0V0z\" fill=\"none\"/>\n",
              "    <path d=\"M18.56 5.44l.94 2.06.94-2.06 2.06-.94-2.06-.94-.94-2.06-.94 2.06-2.06.94zm-11 1L8.5 8.5l.94-2.06 2.06-.94-2.06-.94L8.5 2.5l-.94 2.06-2.06.94zm10 10l.94 2.06.94-2.06 2.06-.94-2.06-.94-.94-2.06-.94 2.06-2.06.94z\"/><path d=\"M17.41 7.96l-1.37-1.37c-.4-.4-.92-.59-1.43-.59-.52 0-1.04.2-1.43.59L10.3 9.45l-7.72 7.72c-.78.78-.78 2.05 0 2.83L4 21.41c.39.39.9.59 1.41.59.51 0 1.02-.2 1.41-.59l7.78-7.78 2.81-2.81c.8-.78.8-2.07 0-2.86zM5.41 20L4 18.59l7.72-7.72 1.47 1.35L5.41 20z\"/>\n",
              "  </svg>\n",
              "      </button>\n",
              "      \n",
              "  <style>\n",
              "    .colab-df-container {\n",
              "      display:flex;\n",
              "      flex-wrap:wrap;\n",
              "      gap: 12px;\n",
              "    }\n",
              "\n",
              "    .colab-df-convert {\n",
              "      background-color: #E8F0FE;\n",
              "      border: none;\n",
              "      border-radius: 50%;\n",
              "      cursor: pointer;\n",
              "      display: none;\n",
              "      fill: #1967D2;\n",
              "      height: 32px;\n",
              "      padding: 0 0 0 0;\n",
              "      width: 32px;\n",
              "    }\n",
              "\n",
              "    .colab-df-convert:hover {\n",
              "      background-color: #E2EBFA;\n",
              "      box-shadow: 0px 1px 2px rgba(60, 64, 67, 0.3), 0px 1px 3px 1px rgba(60, 64, 67, 0.15);\n",
              "      fill: #174EA6;\n",
              "    }\n",
              "\n",
              "    [theme=dark] .colab-df-convert {\n",
              "      background-color: #3B4455;\n",
              "      fill: #D2E3FC;\n",
              "    }\n",
              "\n",
              "    [theme=dark] .colab-df-convert:hover {\n",
              "      background-color: #434B5C;\n",
              "      box-shadow: 0px 1px 3px 1px rgba(0, 0, 0, 0.15);\n",
              "      filter: drop-shadow(0px 1px 2px rgba(0, 0, 0, 0.3));\n",
              "      fill: #FFFFFF;\n",
              "    }\n",
              "  </style>\n",
              "\n",
              "      <script>\n",
              "        const buttonEl =\n",
              "          document.querySelector('#df-7c81d7d5-5867-4842-8e73-7112d2c1a472 button.colab-df-convert');\n",
              "        buttonEl.style.display =\n",
              "          google.colab.kernel.accessAllowed ? 'block' : 'none';\n",
              "\n",
              "        async function convertToInteractive(key) {\n",
              "          const element = document.querySelector('#df-7c81d7d5-5867-4842-8e73-7112d2c1a472');\n",
              "          const dataTable =\n",
              "            await google.colab.kernel.invokeFunction('convertToInteractive',\n",
              "                                                     [key], {});\n",
              "          if (!dataTable) return;\n",
              "\n",
              "          const docLinkHtml = 'Like what you see? Visit the ' +\n",
              "            '<a target=\"_blank\" href=https://colab.research.google.com/notebooks/data_table.ipynb>data table notebook</a>'\n",
              "            + ' to learn more about interactive tables.';\n",
              "          element.innerHTML = '';\n",
              "          dataTable['output_type'] = 'display_data';\n",
              "          await google.colab.output.renderOutput(dataTable, element);\n",
              "          const docLink = document.createElement('div');\n",
              "          docLink.innerHTML = docLinkHtml;\n",
              "          element.appendChild(docLink);\n",
              "        }\n",
              "      </script>\n",
              "    </div>\n",
              "  </div>\n",
              "  "
            ],
            "text/plain": [
              "          0         1         2         3         4         5         6  \\\n",
              "0 -0.051582  0.570248  0.040246  0.067682 -0.105656  0.009550  0.401517   \n",
              "1  0.242752  0.744204 -0.326520  0.501842 -0.140068 -0.369483  0.182902   \n",
              "2  0.289110  0.716244 -0.452071  0.423843 -0.373148 -0.238765  0.226855   \n",
              "3  0.480448  0.977004 -0.691104  0.523501 -0.009103 -0.555272  0.025371   \n",
              "4  0.272247  0.879382 -0.124634  0.142605 -0.391232 -0.250622 -0.010837   \n",
              "\n",
              "          7         8         9  ...       247       248       249       250  \\\n",
              "0 -0.158584  0.235116  0.179076  ... -0.563176 -0.739814  0.220644  0.139754   \n",
              "1  0.203072  0.516719 -0.178889  ... -0.860914 -0.490854  0.187276  0.358855   \n",
              "2  0.133143  0.340012 -0.048586  ... -0.962714 -0.433975  0.241466  0.128264   \n",
              "3  0.196469  0.171471 -0.097997  ... -0.936871 -0.162587  0.433401  0.554998   \n",
              "4  0.138314  0.365303  0.025585  ... -0.647363 -0.752626 -0.145893  0.086402   \n",
              "\n",
              "        251       252       253       254       255  sentiment  \n",
              "0  0.487044  0.166534 -0.254475  0.420872  0.360018          1  \n",
              "1  0.758482 -0.067636  0.368059  0.372971  0.128585          0  \n",
              "2  0.709162 -0.060428  0.209797  0.415088  0.091796          0  \n",
              "3  0.864708 -0.255073  0.094750  0.489902  0.199703          1  \n",
              "4  0.924967 -0.088269 -0.028738  0.462544  0.275848          0  \n",
              "\n",
              "[5 rows x 257 columns]"
            ]
          },
          "execution_count": 24,
          "metadata": {},
          "output_type": "execute_result"
        }
      ],
      "source": [
        "model_df = pd.DataFrame(model_array)\n",
        "model_df[\"sentiment\"] = df[\"sentiment\"]\n",
        "\n",
        "model_df.head()\n"
      ]
    },
    {
      "cell_type": "code",
      "execution_count": null,
      "metadata": {
        "id": "Eyxl1AouxoCJ"
      },
      "outputs": [],
      "source": [
        "\n",
        "model_df.to_csv('procesed_movie_data.csv', encoding='utf-8',index=False)"
      ]
    },
    {
      "cell_type": "code",
      "execution_count": null,
      "metadata": {
        "id": "Ekygfkz8z_Xt"
      },
      "outputs": [],
      "source": [
        "df_train=model_df[:50000]\n",
        "df_test=model_df[50000:]"
      ]
    },
    {
      "cell_type": "code",
      "execution_count": null,
      "metadata": {
        "id": "P6UTGRwE0dI8"
      },
      "outputs": [],
      "source": [
        "y=df_train[\"sentiment\"]\n",
        "del df_train[\"sentiment\"]\n",
        "text=df_train"
      ]
    },
    {
      "cell_type": "code",
      "execution_count": null,
      "metadata": {
        "colab": {
          "base_uri": "https://localhost:8080/"
        },
        "id": "ZvvwettZ0k40",
        "outputId": "e55fd372-87d2-4360-c16e-42e684e6a224"
      },
      "outputs": [
        {
          "data": {
            "text/plain": [
              "((50000, 256), (50000,), (0, 256))"
            ]
          },
          "execution_count": 50,
          "metadata": {},
          "output_type": "execute_result"
        }
      ],
      "source": [
        "text.shape, y.shape, test.shape"
      ]
    },
    {
      "cell_type": "code",
      "execution_count": null,
      "metadata": {
        "id": "MmSR2tAJ0o1S"
      },
      "outputs": [],
      "source": [
        "r.fit(text,y)\n"
      ]
    },
    {
      "cell_type": "code",
      "execution_count": null,
      "metadata": {
        "colab": {
          "base_uri": "https://localhost:8080/"
        },
        "id": "wiVch_hZ1HbL",
        "outputId": "24331abd-410b-4af7-bb3a-7229f6df0161"
      },
      "outputs": [
        {
          "data": {
            "text/plain": [
              "1.0"
            ]
          },
          "execution_count": 53,
          "metadata": {},
          "output_type": "execute_result"
        }
      ],
      "source": [
        "#bosques aleatorios\n",
        "r.score(text,y)"
      ]
    },
    {
      "cell_type": "code",
      "execution_count": null,
      "metadata": {
        "colab": {
          "base_uri": "https://localhost:8080/"
        },
        "id": "kCkUGOzpAmCX",
        "outputId": "86c3abef-bb05-48c0-9b5c-401b86668eff"
      },
      "outputs": [
        {
          "data": {
            "text/plain": [
              "1.0"
            ]
          },
          "execution_count": 55,
          "metadata": {},
          "output_type": "execute_result"
        }
      ],
      "source": [
        "#arboles de desicion\n",
        "from sklearn import tree\n",
        "\n",
        "clf = tree.DecisionTreeClassifier()\n",
        "clf.fit(text,y)\n",
        "clf.score(text,y)"
      ]
    },
    {
      "cell_type": "code",
      "execution_count": null,
      "metadata": {
        "colab": {
          "base_uri": "https://localhost:8080/"
        },
        "id": "rKJUeL8bA6NI",
        "outputId": "f730f0eb-94da-434c-c52d-af4b57834179"
      },
      "outputs": [
        {
          "data": {
            "text/plain": [
              "0.96968"
            ]
          },
          "execution_count": 58,
          "metadata": {},
          "output_type": "execute_result"
        }
      ],
      "source": [
        "#redes neuronales\n",
        "from sklearn.neural_network import MLPClassifier\n",
        "clf = MLPClassifier(solver='adam', alpha=1e-5,\n",
        "                    hidden_layer_sizes=(58, 20,30,5,2), random_state=1)\n",
        "\n",
        "clf.fit(text,y)\n",
        "clf.score(text,y)"
      ]
    },
    {
      "cell_type": "code",
      "execution_count": null,
      "metadata": {
        "colab": {
          "base_uri": "https://localhost:8080/"
        },
        "id": "ZBh4uZsKB6TU",
        "outputId": "ea09a1c0-bd24-4b0b-8675-1a2b99a79536"
      },
      "outputs": [
        {
          "data": {
            "text/plain": [
              "0.65954"
            ]
          },
          "execution_count": 59,
          "metadata": {},
          "output_type": "execute_result"
        }
      ],
      "source": [
        "#maquinas de soporte vecotorial\n",
        "from sklearn import svm\n",
        "#Create a svm Classifier\n",
        "clf = svm.SVC(kernel='sigmoid',random_state=0) # Linear Kernel\n",
        "clf.fit(text, y)\n",
        "clf.score(text, y)"
      ]
    },
    {
      "cell_type": "code",
      "execution_count": null,
      "metadata": {
        "id": "XktqRdW6IO0Q"
      },
      "outputs": [],
      "source": [
        "#naive bayes\n",
        "from sklearn.naive_bayes import MultinomialNB\n",
        "\n",
        "# Build a Gaussian Classifier\n",
        "model = MultinomialNB()\n",
        "\n",
        "model.fit(text, y)\n",
        "model.score(text, y)\n"
      ]
    },
    {
      "cell_type": "code",
      "execution_count": null,
      "metadata": {
        "colab": {
          "background_save": true
        },
        "id": "fXU10EXZEvtt",
        "outputId": "91f3cca2-db53-4c34-f5ba-e4a28bc37568"
      },
      "outputs": [
        {
          "ename": "AttributeError",
          "evalue": "ignored",
          "output_type": "error",
          "traceback": [
            "\u001b[0;31m---------------------------------------------------------------------------\u001b[0m",
            "\u001b[0;31mAttributeError\u001b[0m                            Traceback (most recent call last)",
            "\u001b[0;32m<ipython-input-60-904880e8d6d2>\u001b[0m in \u001b[0;36m<cell line: 13>\u001b[0;34m()\u001b[0m\n\u001b[1;32m     11\u001b[0m \u001b[0;34m\u001b[0m\u001b[0m\n\u001b[1;32m     12\u001b[0m \u001b[0;31m# Reemplaza el KNN con los mejores parámetros encontrados\u001b[0m\u001b[0;34m\u001b[0m\u001b[0;34m\u001b[0m\u001b[0m\n\u001b[0;32m---> 13\u001b[0;31m \u001b[0mbest_params\u001b[0m \u001b[0;34m=\u001b[0m \u001b[0mgrid\u001b[0m\u001b[0;34m.\u001b[0m\u001b[0mbestparams\u001b[0m\u001b[0;34m\u001b[0m\u001b[0;34m\u001b[0m\u001b[0m\n\u001b[0m\u001b[1;32m     14\u001b[0m \u001b[0mprint\u001b[0m\u001b[0;34m(\u001b[0m\u001b[0;34m\"Mejores parámetros: \"\u001b[0m\u001b[0;34m,\u001b[0m \u001b[0mbest_params\u001b[0m\u001b[0;34m)\u001b[0m\u001b[0;34m\u001b[0m\u001b[0;34m\u001b[0m\u001b[0m\n\u001b[1;32m     15\u001b[0m \u001b[0;34m\u001b[0m\u001b[0m\n",
            "\u001b[0;31mAttributeError\u001b[0m: 'GridSearchCV' object has no attribute 'bestparams'"
          ]
        }
      ],
      "source": [
        "# KNN con GridSearchCV para encontrar los mejores parámetros\n",
        "from sklearn.model_selection import GridSearchCV\n",
        "\n",
        "k_range = list(range(1, 31))\n",
        "weight_options = ['uniform', 'distance']\n",
        "\n",
        "param_grid = {'n_neighbors': k_range, 'weights': weight_options}\n",
        "knn = KNeighborsClassifier()\n",
        "grid = GridSearchCV(knn, param_grid, cv=5, scoring='accuracy',n_jobs=-1)\n",
        "grid.fit(text, y)\n",
        "\n",
        "# Reemplaza el KNN con los mejores parámetros encontrados\n",
        "best_params = grid.bestparams\n",
        "print(\"Mejores parámetros: \", best_params)\n",
        "\n",
        "neigh = KNeighborsClassifier(**best_params)\n",
        "neigh.fit(text, y)\n",
        "\n",
        "# Evalúa el rendimiento del modelo ajustado\n",
        "knn_score = neigh.score(text, y)\n",
        "print(\"KNN score: \", knn_score)\n"
      ]
    },
    {
      "cell_type": "code",
      "source": [
        "grid.best_estimator_\n",
        "#KNeighborsClassifier(n_neighbors=22, weights='distance')"
      ],
      "metadata": {
        "colab": {
          "base_uri": "https://localhost:8080/",
          "height": 75
        },
        "id": "zd7lWissW5ev",
        "outputId": "4a9de9b9-7d88-4abd-d141-ed0360d60501"
      },
      "execution_count": 66,
      "outputs": [
        {
          "output_type": "execute_result",
          "data": {
            "text/plain": [
              "KNeighborsClassifier(n_neighbors=22, weights='distance')"
            ],
            "text/html": [
              "<style>#sk-container-id-3 {color: black;background-color: white;}#sk-container-id-3 pre{padding: 0;}#sk-container-id-3 div.sk-toggleable {background-color: white;}#sk-container-id-3 label.sk-toggleable__label {cursor: pointer;display: block;width: 100%;margin-bottom: 0;padding: 0.3em;box-sizing: border-box;text-align: center;}#sk-container-id-3 label.sk-toggleable__label-arrow:before {content: \"▸\";float: left;margin-right: 0.25em;color: #696969;}#sk-container-id-3 label.sk-toggleable__label-arrow:hover:before {color: black;}#sk-container-id-3 div.sk-estimator:hover label.sk-toggleable__label-arrow:before {color: black;}#sk-container-id-3 div.sk-toggleable__content {max-height: 0;max-width: 0;overflow: hidden;text-align: left;background-color: #f0f8ff;}#sk-container-id-3 div.sk-toggleable__content pre {margin: 0.2em;color: black;border-radius: 0.25em;background-color: #f0f8ff;}#sk-container-id-3 input.sk-toggleable__control:checked~div.sk-toggleable__content {max-height: 200px;max-width: 100%;overflow: auto;}#sk-container-id-3 input.sk-toggleable__control:checked~label.sk-toggleable__label-arrow:before {content: \"▾\";}#sk-container-id-3 div.sk-estimator input.sk-toggleable__control:checked~label.sk-toggleable__label {background-color: #d4ebff;}#sk-container-id-3 div.sk-label input.sk-toggleable__control:checked~label.sk-toggleable__label {background-color: #d4ebff;}#sk-container-id-3 input.sk-hidden--visually {border: 0;clip: rect(1px 1px 1px 1px);clip: rect(1px, 1px, 1px, 1px);height: 1px;margin: -1px;overflow: hidden;padding: 0;position: absolute;width: 1px;}#sk-container-id-3 div.sk-estimator {font-family: monospace;background-color: #f0f8ff;border: 1px dotted black;border-radius: 0.25em;box-sizing: border-box;margin-bottom: 0.5em;}#sk-container-id-3 div.sk-estimator:hover {background-color: #d4ebff;}#sk-container-id-3 div.sk-parallel-item::after {content: \"\";width: 100%;border-bottom: 1px solid gray;flex-grow: 1;}#sk-container-id-3 div.sk-label:hover label.sk-toggleable__label {background-color: #d4ebff;}#sk-container-id-3 div.sk-serial::before {content: \"\";position: absolute;border-left: 1px solid gray;box-sizing: border-box;top: 0;bottom: 0;left: 50%;z-index: 0;}#sk-container-id-3 div.sk-serial {display: flex;flex-direction: column;align-items: center;background-color: white;padding-right: 0.2em;padding-left: 0.2em;position: relative;}#sk-container-id-3 div.sk-item {position: relative;z-index: 1;}#sk-container-id-3 div.sk-parallel {display: flex;align-items: stretch;justify-content: center;background-color: white;position: relative;}#sk-container-id-3 div.sk-item::before, #sk-container-id-3 div.sk-parallel-item::before {content: \"\";position: absolute;border-left: 1px solid gray;box-sizing: border-box;top: 0;bottom: 0;left: 50%;z-index: -1;}#sk-container-id-3 div.sk-parallel-item {display: flex;flex-direction: column;z-index: 1;position: relative;background-color: white;}#sk-container-id-3 div.sk-parallel-item:first-child::after {align-self: flex-end;width: 50%;}#sk-container-id-3 div.sk-parallel-item:last-child::after {align-self: flex-start;width: 50%;}#sk-container-id-3 div.sk-parallel-item:only-child::after {width: 0;}#sk-container-id-3 div.sk-dashed-wrapped {border: 1px dashed gray;margin: 0 0.4em 0.5em 0.4em;box-sizing: border-box;padding-bottom: 0.4em;background-color: white;}#sk-container-id-3 div.sk-label label {font-family: monospace;font-weight: bold;display: inline-block;line-height: 1.2em;}#sk-container-id-3 div.sk-label-container {text-align: center;}#sk-container-id-3 div.sk-container {/* jupyter's `normalize.less` sets `[hidden] { display: none; }` but bootstrap.min.css set `[hidden] { display: none !important; }` so we also need the `!important` here to be able to override the default hidden behavior on the sphinx rendered scikit-learn.org. See: https://github.com/scikit-learn/scikit-learn/issues/21755 */display: inline-block !important;position: relative;}#sk-container-id-3 div.sk-text-repr-fallback {display: none;}</style><div id=\"sk-container-id-3\" class=\"sk-top-container\"><div class=\"sk-text-repr-fallback\"><pre>KNeighborsClassifier(n_neighbors=22, weights=&#x27;distance&#x27;)</pre><b>In a Jupyter environment, please rerun this cell to show the HTML representation or trust the notebook. <br />On GitHub, the HTML representation is unable to render, please try loading this page with nbviewer.org.</b></div><div class=\"sk-container\" hidden><div class=\"sk-item\"><div class=\"sk-estimator sk-toggleable\"><input class=\"sk-toggleable__control sk-hidden--visually\" id=\"sk-estimator-id-7\" type=\"checkbox\" checked><label for=\"sk-estimator-id-7\" class=\"sk-toggleable__label sk-toggleable__label-arrow\">KNeighborsClassifier</label><div class=\"sk-toggleable__content\"><pre>KNeighborsClassifier(n_neighbors=22, weights=&#x27;distance&#x27;)</pre></div></div></div></div></div>"
            ]
          },
          "metadata": {},
          "execution_count": 66
        }
      ]
    },
    {
      "cell_type": "code",
      "source": [
        "grid.score(text, y)"
      ],
      "metadata": {
        "colab": {
          "base_uri": "https://localhost:8080/"
        },
        "id": "bzOMac8lWjOP",
        "outputId": "49a5f102-0e06-4775-d158-23714b47cedb"
      },
      "execution_count": 62,
      "outputs": [
        {
          "output_type": "execute_result",
          "data": {
            "text/plain": [
              "1.0"
            ]
          },
          "metadata": {},
          "execution_count": 62
        }
      ]
    },
    {
      "cell_type": "code",
      "execution_count": null,
      "metadata": {
        "id": "vbS48D_WGyL1"
      },
      "outputs": [],
      "source": [
        "# ... (tus imports e instrucciones previas)\n",
        "\n",
        "from sklearn.model_selection import GridSearchCV\n",
        "from sklearn import svm\n",
        "\n",
        "# Parámetros para GridSearchCV\n",
        "param_grid = {\n",
        "    'C': [0.1, 1, 10, 100],\n",
        "    'gamma': [1, 0.1, 0.01, 0.001],\n",
        "    'kernel': ['linear', 'rbf', 'sigmoid']\n",
        "}\n",
        "\n",
        "# Crear un clasificador SVM\n",
        "clf = svm.SVC(random_state=0)\n",
        "\n",
        "# Aplicar GridSearchCV para encontrar los mejores parámetros\n",
        "grid = GridSearchCV(clf, param_grid, cv=5, scoring='accuracy')\n",
        "grid.fit(text, y)\n",
        "\n",
        "# Reemplazar el clasificador SVM con los mejores parámetros encontrados\n",
        "best_params = grid.bestparams\n",
        "print(\"Mejores parámetros: \", best_params)\n",
        "\n",
        "clf = svm.SVC(**best_params)\n",
        "clf.fit(text, y)\n",
        "\n",
        "# Evaluar el rendimiento del modelo ajustado\n",
        "svm_score = clf.score(text, y)\n",
        "print(\"SVM score: \", svm_score)"
      ]
    },
    {
      "cell_type": "code",
      "execution_count": null,
      "metadata": {
        "id": "OyRStpG4IeOf"
      },
      "outputs": [],
      "source": [
        "#aleatorio knn\n",
        "# ... (tus imports e instrucciones previas)\n",
        "\n",
        "# KNN con RandomizedSearchCV para encontrar los mejores parámetros\n",
        "from sklearn.model_selection import RandomizedSearchCV\n",
        "\n",
        "k_range = list(range(1, 31))\n",
        "weight_options = ['uniform', 'distance']\n",
        "\n",
        "param_dist = {'n_neighbors': k_range, 'weights': weight_options}\n",
        "knn = KNeighborsClassifier()\n",
        "rand = RandomizedSearchCV(knn, param_dist, cv=5, scoring='accuracy', n_iter=10, random_state=42)\n",
        "rand.fit(text, y)\n",
        "\n",
        "# Reemplaza el KNN con los mejores parámetros encontrados\n",
        "best_params = rand.bestparams\n",
        "print(\"Mejores parámetros: \", best_params)\n",
        "\n",
        "neigh = KNeighborsClassifier(**best_params)\n",
        "neigh.fit(text, y)\n",
        "\n",
        "# Evalúa el rendimiento del modelo ajustado\n",
        "knn_score = neigh.score(text, y)\n",
        "print(\"KNN score: \", knn_score)"
      ]
    }
  ],
  "metadata": {
    "colab": {
      "provenance": [],
      "include_colab_link": true
    },
    "kernelspec": {
      "display_name": "Python 3",
      "name": "python3"
    },
    "language_info": {
      "name": "python"
    }
  },
  "nbformat": 4,
  "nbformat_minor": 0
}